{
 "cells": [
  {
   "cell_type": "code",
   "execution_count": 1,
   "metadata": {
    "collapsed": true
   },
   "outputs": [],
   "source": [
    "import pandas\n",
    "import numpy as np\n",
    "import matplotlib.pyplot as plt\n",
    "%matplotlib inline\n",
    "Data = pandas.read_excel(\"precipitation.xlsx\")"
   ]
  },
  {
   "cell_type": "code",
   "execution_count": 2,
   "metadata": {
    "collapsed": false
   },
   "outputs": [],
   "source": [
    "year = Data['Year'].values\n",
    "month = Data['Month'].values\n",
    "day = Data['Day'].values\n",
    "t_min = Data['T_min'].values\n",
    "t_max = Data['T_max'].values\n",
    "t_mean = Data['T_mean'].values\n",
    "tot_prec = Data['Total precipitation'].values\n",
    "numbers = Data['No'].values\n",
    "\n",
    "\n",
    "X = np.zeros((19807,6))\n",
    "X[:,0] = year[193:20000]\n",
    "X[:,1] = month[193:20000]\n",
    "X[:,2] = day[193:20000]\n",
    "X[:,3] = t_min[193:20000]\n",
    "X[:,4] = t_mean[193:20000]\n",
    "X[:,5] = t_max[193:20000]\n"
   ]
  },
  {
   "cell_type": "code",
   "execution_count": 3,
   "metadata": {
    "collapsed": false
   },
   "outputs": [],
   "source": [
    "y = tot_prec[193:20000]"
   ]
  },
  {
   "cell_type": "code",
   "execution_count": null,
   "metadata": {
    "collapsed": false
   },
   "outputs": [],
   "source": [
    "from sklearn.svm import SVR\n",
    "svr_rbf = SVR(kernel='rbf', C=1e3, gamma=0.1)\n",
    "y_rbf = svr_rbf.fit(X, y).predict(X)"
   ]
  },
  {
   "cell_type": "code",
   "execution_count": null,
   "metadata": {
    "collapsed": true
   },
   "outputs": [],
   "source": [
    "svr_lin = SVR(kernel='linear', C=1e3)\n",
    "y_lin = svr_lin.fit(X, y).predict(X)"
   ]
  },
  {
   "cell_type": "code",
   "execution_count": 19,
   "metadata": {
    "collapsed": true
   },
   "outputs": [],
   "source": [
    "svr_poly = SVR(kernel='poly', C=1e3, degree=2)\n",
    "y_poly = svr_poly.fit(X, y).predict(X)"
   ]
  },
  {
   "cell_type": "code",
   "execution_count": null,
   "metadata": {
    "collapsed": false
   },
   "outputs": [],
   "source": [
    "lw = 2\n",
    "plt.figure(figsize = (13,13))\n",
    "plt.hold('on')\n",
    "plt.plot(numbers[193:20000], y_rbf, color='navy', lw=lw, label='RBF model')\n",
    "\n",
    "##plt.plot(numbers[193:20000], y_poly, color='cornflowerblue', lw=lw, label='Polynomial model')\n",
    "##plt.plot(numbers[193:20000], y_lin, color='c', lw=lw, label='Linear model')\n",
    "plt.scatter(numbers[193:20000], y, color='darkorange', label='data')\n",
    "plt.xlabel('data')\n",
    "plt.ylabel('target')\n",
    "plt.title('Support Vector Regression')\n",
    "plt.legend()\n",
    "plt.show()"
   ]
  },
  {
   "cell_type": "code",
   "execution_count": null,
   "metadata": {
    "collapsed": true
   },
   "outputs": [],
   "source": []
  },
  {
   "cell_type": "code",
   "execution_count": null,
   "metadata": {
    "collapsed": false
   },
   "outputs": [],
   "source": []
  },
  {
   "cell_type": "code",
   "execution_count": null,
   "metadata": {
    "collapsed": true
   },
   "outputs": [],
   "source": []
  }
 ],
 "metadata": {
  "kernelspec": {
   "display_name": "Python 2",
   "language": "python",
   "name": "python2"
  },
  "language_info": {
   "codemirror_mode": {
    "name": "ipython",
    "version": 2
   },
   "file_extension": ".py",
   "mimetype": "text/x-python",
   "name": "python",
   "nbconvert_exporter": "python",
   "pygments_lexer": "ipython2",
   "version": "2.7.10"
  }
 },
 "nbformat": 4,
 "nbformat_minor": 0
}
