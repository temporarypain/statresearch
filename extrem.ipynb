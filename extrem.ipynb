{
 "cells": [
  {
   "cell_type": "code",
   "execution_count": 44,
   "metadata": {
    "collapsed": true
   },
   "outputs": [],
   "source": [
    "import pandas as pd\n",
    "import numpy as np\n",
    "import matplotlib.pyplot as plt\n",
    "import csv\n",
    "import math\n",
    "%matplotlib inline"
   ]
  },
  {
   "cell_type": "code",
   "execution_count": 45,
   "metadata": {
    "collapsed": true
   },
   "outputs": [],
   "source": [
    "df2 = pd.read_excel('res2.xls', sep = ';')"
   ]
  },
  {
   "cell_type": "code",
   "execution_count": 46,
   "metadata": {
    "collapsed": false
   },
   "outputs": [
    {
     "data": {
      "text/html": [
       "<div>\n",
       "<table border=\"1\" class=\"dataframe\">\n",
       "  <thead>\n",
       "    <tr style=\"text-align: right;\">\n",
       "      <th></th>\n",
       "      <th>№ п/п</th>\n",
       "      <th>Индекс ВМО</th>\n",
       "      <th>Наименование станции</th>\n",
       "      <th>Координаты станции</th>\n",
       "      <th>Unnamed: 4</th>\n",
       "      <th>wet intervals</th>\n",
       "      <th>Unnamed: 6</th>\n",
       "      <th>Unnamed: 7</th>\n",
       "      <th>Unnamed: 8</th>\n",
       "      <th>сухие  интервалы</th>\n",
       "      <th>Unnamed: 10</th>\n",
       "      <th>Unnamed: 11</th>\n",
       "      <th>Unnamed: 12</th>\n",
       "    </tr>\n",
       "  </thead>\n",
       "  <tbody>\n",
       "    <tr>\n",
       "      <th>0</th>\n",
       "      <td>NaN</td>\n",
       "      <td>NaN</td>\n",
       "      <td>NaN</td>\n",
       "      <td>широта</td>\n",
       "      <td>долгота</td>\n",
       "      <td>R</td>\n",
       "      <td>P</td>\n",
       "      <td>h</td>\n",
       "      <td>p-value</td>\n",
       "      <td>R</td>\n",
       "      <td>P</td>\n",
       "      <td>h</td>\n",
       "      <td>p-value</td>\n",
       "    </tr>\n",
       "    <tr>\n",
       "      <th>1</th>\n",
       "      <td>NaN</td>\n",
       "      <td>1</td>\n",
       "      <td>NaN</td>\n",
       "      <td>NaN</td>\n",
       "      <td>NaN</td>\n",
       "      <td>0.870012</td>\n",
       "      <td>0.309965</td>\n",
       "      <td>1</td>\n",
       "      <td>0.0168219</td>\n",
       "      <td>0.629831</td>\n",
       "      <td>0.240972</td>\n",
       "      <td>1</td>\n",
       "      <td>2.43295e-05</td>\n",
       "    </tr>\n",
       "    <tr>\n",
       "      <th>2</th>\n",
       "      <td>NaN</td>\n",
       "      <td>2</td>\n",
       "      <td>NaN</td>\n",
       "      <td>NaN</td>\n",
       "      <td>NaN</td>\n",
       "      <td>0.743809</td>\n",
       "      <td>0.265124</td>\n",
       "      <td>1</td>\n",
       "      <td>0.00041292</td>\n",
       "      <td>0.542553</td>\n",
       "      <td>0.209797</td>\n",
       "      <td>1</td>\n",
       "      <td>0.00287871</td>\n",
       "    </tr>\n",
       "    <tr>\n",
       "      <th>3</th>\n",
       "      <td>NaN</td>\n",
       "      <td>3</td>\n",
       "      <td>NaN</td>\n",
       "      <td>NaN</td>\n",
       "      <td>NaN</td>\n",
       "      <td>0.769759</td>\n",
       "      <td>0.314085</td>\n",
       "      <td>1</td>\n",
       "      <td>0.0190351</td>\n",
       "      <td>0.591881</td>\n",
       "      <td>0.184434</td>\n",
       "      <td>1</td>\n",
       "      <td>0.0203902</td>\n",
       "    </tr>\n",
       "    <tr>\n",
       "      <th>4</th>\n",
       "      <td>NaN</td>\n",
       "      <td>4</td>\n",
       "      <td>NaN</td>\n",
       "      <td>NaN</td>\n",
       "      <td>NaN</td>\n",
       "      <td>0.887074</td>\n",
       "      <td>0.275002</td>\n",
       "      <td>1</td>\n",
       "      <td>8.83286e-06</td>\n",
       "      <td>0.633721</td>\n",
       "      <td>0.244086</td>\n",
       "      <td>0</td>\n",
       "      <td>0.0831843</td>\n",
       "    </tr>\n",
       "  </tbody>\n",
       "</table>\n",
       "</div>"
      ],
      "text/plain": [
       "   № п/п  Индекс ВМО  Наименование станции Координаты станции Unnamed: 4  \\\n",
       "0    NaN         NaN                   NaN             широта    долгота   \n",
       "1    NaN           1                   NaN                NaN        NaN   \n",
       "2    NaN           2                   NaN                NaN        NaN   \n",
       "3    NaN           3                   NaN                NaN        NaN   \n",
       "4    NaN           4                   NaN                NaN        NaN   \n",
       "\n",
       "  wet intervals Unnamed: 6 Unnamed: 7   Unnamed: 8 сухие  интервалы  \\\n",
       "0             R          P          h      p-value                R   \n",
       "1      0.870012   0.309965          1    0.0168219         0.629831   \n",
       "2      0.743809   0.265124          1   0.00041292         0.542553   \n",
       "3      0.769759   0.314085          1    0.0190351         0.591881   \n",
       "4      0.887074   0.275002          1  8.83286e-06         0.633721   \n",
       "\n",
       "  Unnamed: 10 Unnamed: 11  Unnamed: 12  \n",
       "0           P           h      p-value  \n",
       "1    0.240972           1  2.43295e-05  \n",
       "2    0.209797           1   0.00287871  \n",
       "3    0.184434           1    0.0203902  \n",
       "4    0.244086           0    0.0831843  "
      ]
     },
     "execution_count": 46,
     "metadata": {},
     "output_type": "execute_result"
    }
   ],
   "source": [
    "df2.head()"
   ]
  },
  {
   "cell_type": "code",
   "execution_count": 47,
   "metadata": {
    "collapsed": true
   },
   "outputs": [],
   "source": [
    "r = df2['wet intervals']\n",
    "r = r[1:]"
   ]
  },
  {
   "cell_type": "code",
   "execution_count": 5,
   "metadata": {
    "collapsed": true
   },
   "outputs": [],
   "source": [
    "from pylab import figure, axes, pie, title, show\n"
   ]
  },
  {
   "cell_type": "code",
   "execution_count": 48,
   "metadata": {
    "collapsed": false
   },
   "outputs": [],
   "source": [
    " df = pd.read_csv(\"D:\\ip\\perfect_one\\csv\\\\27612.csv\", sep = ';', header = None)"
   ]
  },
  {
   "cell_type": "code",
   "execution_count": 49,
   "metadata": {
    "collapsed": false
   },
   "outputs": [
    {
     "name": "stdout",
     "output_type": "stream",
     "text": [
      "6797\n"
     ]
    }
   ],
   "source": [
    "data = df[11]\n",
    "sum1 = 0\n",
    "sums = []\n",
    "size = data.size\n",
    "k = 0\n",
    "minn = 0\n",
    "R = []\n",
    "XX = []\n",
    "lastings = []\n",
    "for i in range(size):\n",
    "    if (data[i] > 0) :\n",
    "        k = k + 1\n",
    "        sum1 = sum1 + data[i]\n",
    "    else:\n",
    "        if (sum1 > 0 ):\n",
    "            sums =np.append(sums,sum1)\n",
    "            lastings = np.append(lastings,k)\n",
    "        if (k == 34):\n",
    "            print i\n",
    "        sum1 = 0\n",
    "        k = 0\n"
   ]
  },
  {
   "cell_type": "code",
   "execution_count": 50,
   "metadata": {
    "collapsed": false
   },
   "outputs": [],
   "source": [
    "R = []\n",
    "XX = []\n",
    "mm = []\n",
    "num = max(lastings)+1\n",
    "for minn in range(34):\n",
    "    X = []\n",
    "    for i in range(lastings.size):\n",
    "        if (lastings[i] > minn):\n",
    "            X = np.append(X,sums[i])\n",
    "    m = np.size(X)\n",
    "    mm = np.append(mm,m)\n",
    "    X1 = max(X)\n",
    "    R0 = (m-1)* X1/(sum(X) - X1)\n",
    "    R = np.append(R,R0)\n",
    "    XX = np.append(XX,X1)"
   ]
  },
  {
   "cell_type": "code",
   "execution_count": 51,
   "metadata": {
    "collapsed": false
   },
   "outputs": [
    {
     "data": {
      "text/plain": [
       "array([ 11.55961145,   8.07204567,   6.24618532,   5.18714759,\n",
       "         4.57331743,   4.11350217,   3.71630816,   3.46092729,\n",
       "         2.99389973,   2.71617369,   2.55416102,   2.46010032,\n",
       "         2.41074221,   2.55485399,   2.41013746,   2.26458654,\n",
       "         2.10126582,   2.06982544,   1.99036688,   1.88966725,\n",
       "         1.76422498,   1.8003337 ,   1.8003337 ,   1.6992126 ,\n",
       "         1.37803321,   1.37803321,   1.37803321,   1.37803321,\n",
       "                nan,          nan,          nan,          nan,\n",
       "                nan,          nan])"
      ]
     },
     "execution_count": 51,
     "metadata": {},
     "output_type": "execute_result"
    }
   ],
   "source": [
    "R"
   ]
  },
  {
   "cell_type": "code",
   "execution_count": 11,
   "metadata": {
    "collapsed": false
   },
   "outputs": [
    {
     "data": {
      "text/plain": [
       "array([ 122.9,  122.9,  122.9,  122.9,  122.9,  122.9,  122.9,  122.9,\n",
       "        111.1,  107.9,  107.9,  107.9,  107.9,  107.9,  107.9,  107.9,\n",
       "        107.9,  107.9,  107.9,  107.9,  107.9,  107.9,  107.9,  107.9,\n",
       "        107.9,  107.9,  107.9,  107.9,  107.9,  107.9,  107.9,  107.9,\n",
       "        107.9,  107.9])"
      ]
     },
     "execution_count": 11,
     "metadata": {},
     "output_type": "execute_result"
    }
   ],
   "source": [
    "XX"
   ]
  },
  {
   "cell_type": "code",
   "execution_count": 12,
   "metadata": {
    "collapsed": false
   },
   "outputs": [
    {
     "data": {
      "text/plain": [
       "array([  4.36900000e+03,   2.73100000e+03,   1.73500000e+03,\n",
       "         1.14400000e+03,   7.53000000e+02,   4.97000000e+02,\n",
       "         3.53000000e+02,   2.53000000e+02,   1.83000000e+02,\n",
       "         1.29000000e+02,   9.70000000e+01,   6.60000000e+01,\n",
       "         5.10000000e+01,   3.40000000e+01,   2.70000000e+01,\n",
       "         1.60000000e+01,   1.30000000e+01,   1.10000000e+01,\n",
       "         1.00000000e+01,   8.00000000e+00,   6.00000000e+00,\n",
       "         4.00000000e+00,   4.00000000e+00,   3.00000000e+00,\n",
       "         2.00000000e+00,   2.00000000e+00,   2.00000000e+00,\n",
       "         2.00000000e+00,   1.00000000e+00,   1.00000000e+00,\n",
       "         1.00000000e+00,   1.00000000e+00,   1.00000000e+00,\n",
       "         1.00000000e+00])"
      ]
     },
     "execution_count": 12,
     "metadata": {},
     "output_type": "execute_result"
    }
   ],
   "source": [
    "mm.T"
   ]
  },
  {
   "cell_type": "code",
   "execution_count": 13,
   "metadata": {
    "collapsed": false
   },
   "outputs": [
    {
     "data": {
      "text/plain": [
       "33"
      ]
     },
     "execution_count": 13,
     "metadata": {},
     "output_type": "execute_result"
    }
   ],
   "source": [
    "minn"
   ]
  },
  {
   "cell_type": "code",
   "execution_count": 43,
   "metadata": {
    "collapsed": false
   },
   "outputs": [],
   "source": [
    "q = 484.1032"
   ]
  },
  {
   "cell_type": "code",
   "execution_count": 119,
   "metadata": {
    "collapsed": true
   },
   "outputs": [],
   "source": [
    "import matplotlib.patches as mpatches\n",
    "import matplotlib.pyplot as plt"
   ]
  },
  {
   "cell_type": "code",
   "execution_count": 129,
   "metadata": {
    "collapsed": false
   },
   "outputs": [
    {
     "data": {
      "image/png": "[encoded data removed]",
      "text/plain": [
       "<matplotlib.figure.Figure at 0xe083ba8>"
      ]
     },
     "metadata": {},
     "output_type": "display_data"
    }
   ],
   "source": [
    "plt.figure(figsize = (10,10))\n",
    "plt.plot(R)\n",
    "plt.axhline(y=q,linewidth=2, color = 'red')\n",
    "red_patch = mpatches.Patch(color='red', label='Quantile of order alpha = 0.05')\n",
    "blue_patch = mpatches.Patch(color='blue', label='R0')\n",
    "plt.legend(handles=[red_patch, blue_patch])\n",
    "plt.savefig('R0.jpg')"
   ]
  },
  {
   "cell_type": "code",
   "execution_count": 135,
   "metadata": {
    "collapsed": false
   },
   "outputs": [
    {
     "name": "stdout",
     "output_type": "stream",
     "text": [
      "10.8 1 1559\n"
     ]
    },
    {
     "data": {
      "image/png": "[encoded data removed]",
      "text/plain": [
       "<matplotlib.figure.Figure at 0xeb080b8>"
      ]
     },
     "metadata": {},
     "output_type": "display_data"
    }
   ],
   "source": [
    "plt.figure(figsize = (10,10))\n",
    "maxi = np.argmax(R[R < q])\n",
    "plt.plot(sums[maxi: maxi + m])\n",
    "x = np.argmax(sums[maxi: maxi + m])\n",
    "y = max(sums[maxi: maxi + m])\n",
    "plt.plot(x, y, 'ro', markersize=15)\n",
    "blue_patch = mpatches.Patch(color='blue', label='Sums')\n",
    "plt.annotate('R0 < q, X1 is not extreme precipitation', xy=(x , y), xytext=(0.4, y),\n",
    "            arrowprops=dict(facecolor='black', shrink=0.05))\n",
    "plt.legend(handles=[blue_patch], loc  = 2)\n",
    "plt.savefig('H0_is_right.jpg')\n",
    "print y, x, x + maxi"
   ]
  },
  {
   "cell_type": "code",
   "execution_count": 137,
   "metadata": {
    "collapsed": false,
    "scrolled": true
   },
   "outputs": [
    {
     "name": "stdout",
     "output_type": "stream",
     "text": [
      "6.2 4\n"
     ]
    },
    {
     "data": {
      "image/png": "[encoded data removed]",
      "text/plain": [
       "<matplotlib.figure.Figure at 0xf231898>"
      ]
     },
     "metadata": {},
     "output_type": "display_data"
    }
   ],
   "source": [
    "plt.figure(figsize = (11,10))\n",
    "mini = np.argmin(R[R > q])\n",
    "plt.plot(sums[mini: mini + m])\n",
    "x = np.argmax(sums[mini: mini + m])\n",
    "y = max(sums[mini: mini + m])\n",
    "plt.plot(x, y, 'ro', markersize=15)\n",
    "plt.annotate('R0 > q, X1 is extreme precipitation', xy=(x , y ), xytext=(0.4, y  ),\n",
    "            arrowprops=dict(facecolor='black', shrink=0.05))\n",
    "blue_patch = mpatches.Patch(color='blue', label='Sums')\n",
    "plt.legend(handles=[blue_patch], loc = 2)\n",
    "plt.savefig('H0_is_wrong.jpg')\n",
    "print y, x + mini"
   ]
  },
  {
   "cell_type": "code",
   "execution_count": 32,
   "metadata": {
    "collapsed": false
   },
   "outputs": [
    {
     "data": {
      "text/plain": [
       "5.8473581213307249"
      ]
     },
     "execution_count": 32,
     "metadata": {},
     "output_type": "execute_result"
    }
   ],
   "source": [
    "min(R[R > q])"
   ]
  },
  {
   "cell_type": "code",
   "execution_count": 33,
   "metadata": {
    "collapsed": true
   },
   "outputs": [],
   "source": [
    "meeean = 0.799029854514937 * (1 - 0.300092238254986) / 0.300092238254986"
   ]
  },
  {
   "cell_type": "code",
   "execution_count": 34,
   "metadata": {
    "collapsed": false
   },
   "outputs": [
    {
     "data": {
      "text/plain": [
       "1.8635843442435385"
      ]
     },
     "execution_count": 34,
     "metadata": {},
     "output_type": "execute_result"
    }
   ],
   "source": [
    "meeean"
   ]
  },
  {
   "cell_type": "code",
   "execution_count": 35,
   "metadata": {
    "collapsed": true
   },
   "outputs": [],
   "source": [
    "meeean_dr = 0.62175160419621 * (1 - 0.251764342714804) / 0.251764342714804"
   ]
  },
  {
   "cell_type": "code",
   "execution_count": 36,
   "metadata": {
    "collapsed": false
   },
   "outputs": [
    {
     "data": {
      "text/plain": [
       "1.8478260869565186"
      ]
     },
     "execution_count": 36,
     "metadata": {},
     "output_type": "execute_result"
    }
   ],
   "source": [
    "meeean_dr"
   ]
  },
  {
   "cell_type": "code",
   "execution_count": 47,
   "metadata": {
    "collapsed": false
   },
   "outputs": [
    {
     "data": {
      "text/plain": [
       "6.5035460992907774"
      ]
     },
     "execution_count": 47,
     "metadata": {},
     "output_type": "execute_result"
    }
   ],
   "source": [
    "max(R[R < q])"
   ]
  },
  {
   "cell_type": "code",
   "execution_count": 18,
   "metadata": {
    "collapsed": false
   },
   "outputs": [
    {
     "data": {
      "text/plain": [
       "array([ 18.4,   0.2,  24.2,   2.6,   6.2])"
      ]
     },
     "execution_count": 18,
     "metadata": {},
     "output_type": "execute_result"
    }
   ],
   "source": [
    "sums[:5]"
   ]
  },
  {
   "cell_type": "code",
   "execution_count": 20,
   "metadata": {
    "collapsed": false
   },
   "outputs": [
    {
     "data": {
      "text/plain": [
       "array([ 11.73886239,  11.73913549,  11.73913549,  11.7448735 ,  11.72822146])"
      ]
     },
     "execution_count": 20,
     "metadata": {},
     "output_type": "execute_result"
    }
   ],
   "source": [
    "R[:5]"
   ]
  },
  {
   "cell_type": "code",
   "execution_count": 14,
   "metadata": {
    "collapsed": true
   },
   "outputs": [],
   "source": [
    "q = [ 4.1593, 4.1610, 4.1634, 4.1670, 4.1723, 4.1805, 4.1903, 4.2037, 4.2220, 4.2501, 4.2820, 4.3438, 4.4024, 4.5376, 4.6491, 5.0673, 5.3407,\n",
    "     5.6357, 5.8454, 6.5083, 7.9874, 13.6280, 29.4530, 484.1032]"
   ]
  },
  {
   "cell_type": "code",
   "execution_count": 52,
   "metadata": {
    "collapsed": false
   },
   "outputs": [
    {
     "data": {
      "image/png": "[encoded data removed]",
      "text/plain": [
       "<matplotlib.figure.Figure at 0x127e1da0>"
      ]
     },
     "metadata": {},
     "output_type": "display_data"
    }
   ],
   "source": [
    "plt.figure(figsize = (15,8))\n",
    "plt.plot(q[:7], 'ro', label = 'Quantile of order alpha = 0.95')\n",
    "plt.plot(R[:7], label = 'R0')\n",
    "plt.legend( loc=1, borderaxespad=0.)\n",
    "plt.savefig('H0_is_wwrong_.jpg')"
   ]
  },
  {
   "cell_type": "code",
   "execution_count": 53,
   "metadata": {
    "collapsed": false
   },
   "outputs": [
    {
     "data": {
      "image/png": "[encoded data removed]",
      "text/plain": [
       "<matplotlib.figure.Figure at 0x126ba588>"
      ]
     },
     "metadata": {},
     "output_type": "display_data"
    }
   ],
   "source": [
    "plt.figure(figsize = (15,8))\n",
    "plt.plot(q[7:], 'ro', label = 'Quantile of order alpha = 0.95')\n",
    "plt.plot( R[7:24], label = 'R0' )\n",
    "plt.axis([7, 17, 0, 489])\n",
    "plt.legend( loc=2, borderaxespad=0.)\n",
    "plt.savefig('H0_is_rright_.jpg')"
   ]
  },
  {
   "cell_type": "code",
   "execution_count": 55,
   "metadata": {
    "collapsed": false
   },
   "outputs": [
    {
     "data": {
      "image/png": "[encoded data removed]",
      "text/plain": [
       "<matplotlib.figure.Figure at 0x12788160>"
      ]
     },
     "metadata": {},
     "output_type": "display_data"
    }
   ],
   "source": [
    "plt.figure(figsize = (10,7))\n",
    "plt.plot(XX, '*', label = 'R0 < q, X1 is not extreme precipitation')\n",
    "plt.plot(XX[:5], 'go', label = 'R0 > q, X1 is extreme precipitation')\n",
    "plt.legend( loc=1, borderaxespad=0.)\n",
    "plt.xlabel('Lastings')\n",
    "plt.ylabel('X1')\n",
    "plt.savefig('extremes_.jpg')"
   ]
  },
  {
   "cell_type": "code",
   "execution_count": 165,
   "metadata": {
    "collapsed": false
   },
   "outputs": [
    {
     "data": {
      "text/plain": [
       "array([ 11.55961145,   8.07204567,   6.24618532,   5.18714759,\n",
       "         4.57331743,   4.11350217,   3.71630816,   3.46092729,\n",
       "         2.99389973,   2.71617369,   2.55416102,   2.46010032,\n",
       "         2.41074221,   2.55485399,   2.41013746,   2.26458654,\n",
       "         2.10126582,   2.06982544,   1.99036688,   1.88966725,\n",
       "         1.76422498,   1.8003337 ,   1.8003337 ,   1.6992126 ,\n",
       "         1.37803321,   1.37803321,   1.37803321,   1.37803321,\n",
       "                nan,          nan,          nan,          nan,\n",
       "                nan,          nan])"
      ]
     },
     "execution_count": 165,
     "metadata": {},
     "output_type": "execute_result"
    }
   ],
   "source": [
    "R"
   ]
  },
  {
   "cell_type": "code",
   "execution_count": 39,
   "metadata": {
    "collapsed": false
   },
   "outputs": [
    {
     "data": {
      "text/plain": [
       "107.89999999999998"
      ]
     },
     "execution_count": 39,
     "metadata": {},
     "output_type": "execute_result"
    }
   ],
   "source": [
    "max(X)"
   ]
  },
  {
   "cell_type": "code",
   "execution_count": null,
   "metadata": {
    "collapsed": true
   },
   "outputs": [],
   "source": []
  }
 ],
 "metadata": {
  "kernelspec": {
   "display_name": "Python 2",
   "language": "python",
   "name": "python2"
  },
  "language_info": {
   "codemirror_mode": {
    "name": "ipython",
    "version": 2
   },
   "file_extension": ".py",
   "mimetype": "text/x-python",
   "name": "python",
   "nbconvert_exporter": "python",
   "pygments_lexer": "ipython2",
   "version": "2.7.10"
  }
 },
 "nbformat": 4,
 "nbformat_minor": 0
}
