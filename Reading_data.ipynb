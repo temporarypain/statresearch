{
 "cells": [
  {
   "cell_type": "code",
   "execution_count": 1,
   "metadata": {
    "collapsed": false
   },
   "outputs": [],
   "source": [
    "import pandas as pd\n",
    "import numpy as np\n",
    "import matplotlib.pyplot as plt\n",
    "import csv\n",
    "%matplotlib inline\n"
   ]
  },
  {
   "cell_type": "code",
   "execution_count": 7,
   "metadata": {
    "collapsed": false
   },
   "outputs": [
    {
     "data": {
      "text/html": [
       "<div>\n",
       "<table border=\"1\" class=\"dataframe\">\n",
       "  <thead>\n",
       "    <tr style=\"text-align: right;\">\n",
       "      <th></th>\n",
       "      <th>STATION</th>\n",
       "      <th>NAME</th>\n",
       "      <th>LATITUDE</th>\n",
       "      <th>LONGITUDE</th>\n",
       "      <th>ELEVATION</th>\n",
       "      <th>DATE</th>\n",
       "      <th>PRCP</th>\n",
       "    </tr>\n",
       "  </thead>\n",
       "  <tbody>\n",
       "    <tr>\n",
       "      <th>0</th>\n",
       "      <td>HR000142360</td>\n",
       "      <td>ZAGREB GRIC, HR</td>\n",
       "      <td>45.8167</td>\n",
       "      <td>15.9781</td>\n",
       "      <td>157</td>\n",
       "      <td>1950-01-01</td>\n",
       "      <td>0.00</td>\n",
       "    </tr>\n",
       "    <tr>\n",
       "      <th>1</th>\n",
       "      <td>HR000142360</td>\n",
       "      <td>ZAGREB GRIC, HR</td>\n",
       "      <td>45.8167</td>\n",
       "      <td>15.9781</td>\n",
       "      <td>157</td>\n",
       "      <td>1950-01-02</td>\n",
       "      <td>0.00</td>\n",
       "    </tr>\n",
       "    <tr>\n",
       "      <th>2</th>\n",
       "      <td>HR000142360</td>\n",
       "      <td>ZAGREB GRIC, HR</td>\n",
       "      <td>45.8167</td>\n",
       "      <td>15.9781</td>\n",
       "      <td>157</td>\n",
       "      <td>1950-01-03</td>\n",
       "      <td>0.00</td>\n",
       "    </tr>\n",
       "    <tr>\n",
       "      <th>3</th>\n",
       "      <td>HR000142360</td>\n",
       "      <td>ZAGREB GRIC, HR</td>\n",
       "      <td>45.8167</td>\n",
       "      <td>15.9781</td>\n",
       "      <td>157</td>\n",
       "      <td>1950-01-04</td>\n",
       "      <td>0.01</td>\n",
       "    </tr>\n",
       "    <tr>\n",
       "      <th>4</th>\n",
       "      <td>HR000142360</td>\n",
       "      <td>ZAGREB GRIC, HR</td>\n",
       "      <td>45.8167</td>\n",
       "      <td>15.9781</td>\n",
       "      <td>157</td>\n",
       "      <td>1950-01-05</td>\n",
       "      <td>0.00</td>\n",
       "    </tr>\n",
       "  </tbody>\n",
       "</table>\n",
       "</div>"
      ],
      "text/plain": [
       "       STATION             NAME  LATITUDE  LONGITUDE  ELEVATION        DATE  \\\n",
       "0  HR000142360  ZAGREB GRIC, HR   45.8167    15.9781        157  1950-01-01   \n",
       "1  HR000142360  ZAGREB GRIC, HR   45.8167    15.9781        157  1950-01-02   \n",
       "2  HR000142360  ZAGREB GRIC, HR   45.8167    15.9781        157  1950-01-03   \n",
       "3  HR000142360  ZAGREB GRIC, HR   45.8167    15.9781        157  1950-01-04   \n",
       "4  HR000142360  ZAGREB GRIC, HR   45.8167    15.9781        157  1950-01-05   \n",
       "\n",
       "   PRCP  \n",
       "0  0.00  \n",
       "1  0.00  \n",
       "2  0.00  \n",
       "3  0.01  \n",
       "4  0.00  "
      ]
     },
     "execution_count": 7,
     "metadata": {},
     "output_type": "execute_result"
    }
   ],
   "source": [
    "Data = pd.read_csv(\"1151540.csv\", delimiter=',')\n",
    "Data.head()"
   ]
  },
  {
   "cell_type": "code",
   "execution_count": 8,
   "metadata": {
    "collapsed": false
   },
   "outputs": [],
   "source": [
    "arr = Data['NAME'].unique()\n",
    "for s in arr:\n",
    "    Data[Data['NAME']==s].to_csv('./croatia/' + s + '.csv', sep=';')"
   ]
  },
  {
   "cell_type": "code",
   "execution_count": null,
   "metadata": {
    "collapsed": true
   },
   "outputs": [],
   "source": []
  }
 ],
 "metadata": {
  "kernelspec": {
   "display_name": "Python 2",
   "language": "python",
   "name": "python2"
  },
  "language_info": {
   "codemirror_mode": {
    "name": "ipython",
    "version": 2
   },
   "file_extension": ".py",
   "mimetype": "text/x-python",
   "name": "python",
   "nbconvert_exporter": "python",
   "pygments_lexer": "ipython2",
   "version": "2.7.13"
  }
 },
 "nbformat": 4,
 "nbformat_minor": 0
}
