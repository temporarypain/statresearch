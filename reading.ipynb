{
 "cells": [
  {
   "cell_type": "code",
   "execution_count": 37,
   "metadata": {
    "collapsed": false
   },
   "outputs": [],
   "source": [
    "file = open(\"velikiyustiug\")\n",
    "lines = file.readlines()\n",
    "size = len(lines)"
   ]
  },
  {
   "cell_type": "code",
   "execution_count": 38,
   "metadata": {
    "collapsed": true
   },
   "outputs": [],
   "source": [
    "import pandas\n",
    "import numpy as np\n",
    "import matplotlib.pyplot as plt\n",
    "%matplotlib inline"
   ]
  },
  {
   "cell_type": "code",
   "execution_count": 39,
   "metadata": {
    "collapsed": false
   },
   "outputs": [],
   "source": [
    "year = np.zeros(size)\n",
    "month = np.zeros(size)\n",
    "day = np.zeros(size)\n",
    "t_min = np.zeros(size)\n",
    "t_mean = np.zeros(size)\n",
    "t_max = np.zeros(size)\n",
    "tot_prec = np.zeros(size)\n",
    "numbers = np.zeros(size)\n",
    "p = 182\n",
    "for i in range(p, size):\n",
    "    numbers[i - p] = i -p\n",
    "    ar = lines[i].split()\n",
    "    year[i -p] = ar[1]\n",
    "    month[i - p] = ar[2]\n",
    "    day[i - p] = ar[3]\n",
    "    t_min[i - p] = ar[5]\n",
    "    t_mean[i - p] = ar[7]\n",
    "    if (len(ar)==14):\n",
    "        t_max[i - p] = ar[9]\n",
    "        tot_prec[i - p] = ar[11]\n",
    "    else:\n",
    "        if (len(ar)>11):\n",
    "            t_max[i - p] = 9\n",
    "            tot_prec[i - p] = ar[10] \n",
    "        else:\n",
    "            t_max[i - p] = 9\n",
    "            tot_prec[i - p]= -1"
   ]
  },
  {
   "cell_type": "code",
   "execution_count": 40,
   "metadata": {
    "collapsed": true
   },
   "outputs": [],
   "source": [
    "import pandas as pd\n",
    "import xlsxwriter\n",
    "df = pd.DataFrame({'No' : numbers, 'Year' : year, 'Month': month, 'Day' : day, 'T_min': t_min, 'T_mean': t_mean, 'T_max': t_max, 'Total precipitation' : tot_prec})\n",
    "writer = pd.ExcelWriter('velikiiustiug.xlsx', engine='xlsxwriter')\n",
    "df.to_excel(writer, sheet_name='Sheet1')\n",
    "writer.save()\n",
    "\n",
    "writer.close()\n"
   ]
  },
  {
   "cell_type": "code",
   "execution_count": null,
   "metadata": {
    "collapsed": true
   },
   "outputs": [],
   "source": []
  }
 ],
 "metadata": {
  "kernelspec": {
   "display_name": "Python 2",
   "language": "python",
   "name": "python2"
  },
  "language_info": {
   "codemirror_mode": {
    "name": "ipython",
    "version": 2
   },
   "file_extension": ".py",
   "mimetype": "text/x-python",
   "name": "python",
   "nbconvert_exporter": "python",
   "pygments_lexer": "ipython2",
   "version": "2.7.10"
  }
 },
 "nbformat": 4,
 "nbformat_minor": 0
}
