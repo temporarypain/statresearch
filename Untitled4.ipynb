{
 "cells": [
  {
   "cell_type": "code",
   "execution_count": 1,
   "metadata": {
    "collapsed": true
   },
   "outputs": [],
   "source": [
    "import pandas as pd\n",
    "import numpy as np\n",
    "import csv\n",
    "import os"
   ]
  },
  {
   "cell_type": "code",
   "execution_count": 11,
   "metadata": {
    "collapsed": true
   },
   "outputs": [],
   "source": [
    "path_csv = './csv_germ/'"
   ]
  },
  {
   "cell_type": "code",
   "execution_count": 3,
   "metadata": {
    "collapsed": true
   },
   "outputs": [],
   "source": [
    "import scipy.stats as ss\n",
    "import scipy.optimize as so\n",
    "def likelihood_f(P, x, neg=-1):\n",
    "    n=np.round(P[0]) #by definition, it should be an integer \n",
    "    p=P[1]\n",
    "    loc = 0\n",
    "    return neg*(np.log(ss.nbinom.pmf(x, n, p, loc))).sum()"
   ]
  },
  {
   "cell_type": "code",
   "execution_count": 4,
   "metadata": {
    "collapsed": true
   },
   "outputs": [],
   "source": [
    "import scipy.stats as ss\n",
    "import scipy.optimize as so\n",
    "def likelihood_f(P, x, neg=-1):\n",
    "    n=np.round(P[0]) #by definition, it should be an integer \n",
    "    p=P[1]\n",
    "    loc = 0\n",
    "    return neg*(np.log(ss.nbinom.pmf(x, n, p, loc))).sum()"
   ]
  },
  {
   "cell_type": "code",
   "execution_count": 9,
   "metadata": {
    "collapsed": false
   },
   "outputs": [
    {
     "ename": "ImportError",
     "evalue": "No module named pd.tqdm",
     "output_type": "error",
     "traceback": [
      "\u001b[1;31m---------------------------------------------------------------------------\u001b[0m",
      "\u001b[1;31mImportError\u001b[0m                               Traceback (most recent call last)",
      "\u001b[1;32m<ipython-input-9-bc85146f0e4d>\u001b[0m in \u001b[0;36m<module>\u001b[1;34m()\u001b[0m\n\u001b[1;32m----> 1\u001b[1;33m \u001b[1;32mimport\u001b[0m \u001b[0mpd\u001b[0m\u001b[1;33m.\u001b[0m\u001b[0mtqdm\u001b[0m\u001b[1;33m\u001b[0m\u001b[0m\n\u001b[0m\u001b[0;32m      2\u001b[0m \u001b[1;32mfrom\u001b[0m \u001b[0mIPython\u001b[0m\u001b[1;33m.\u001b[0m\u001b[0mdisplay\u001b[0m \u001b[1;32mimport\u001b[0m \u001b[0mclear_output\u001b[0m\u001b[1;33m\u001b[0m\u001b[0m\n",
      "\u001b[1;31mImportError\u001b[0m: No module named pd.tqdm"
     ]
    }
   ],
   "source": [
    "import pd.tqdm \n",
    "from IPython.display import clear_output"
   ]
  },
  {
   "cell_type": "code",
   "execution_count": 21,
   "metadata": {
    "collapsed": false
   },
   "outputs": [
    {
     "ename": "NameError",
     "evalue": "name 'r' is not defined",
     "output_type": "error",
     "traceback": [
      "\u001b[1;31m---------------------------------------------------------------------------\u001b[0m",
      "\u001b[1;31mNameError\u001b[0m                                 Traceback (most recent call last)",
      "\u001b[1;32m<ipython-input-21-099ac35de255>\u001b[0m in \u001b[0;36m<module>\u001b[1;34m()\u001b[0m\n\u001b[1;32m----> 1\u001b[1;33m \u001b[0mget_ipython\u001b[0m\u001b[1;33m(\u001b[0m\u001b[1;33m)\u001b[0m\u001b[1;33m.\u001b[0m\u001b[0mrun_cell_magic\u001b[0m\u001b[1;33m(\u001b[0m\u001b[1;34mu'time'\u001b[0m\u001b[1;33m,\u001b[0m \u001b[1;34mu''\u001b[0m\u001b[1;33m,\u001b[0m \u001b[1;34mu\"#ind = 3\\nr_precipitation_new = []\\np_precipitation_new = []\\n\\nr_dry_new = []\\np_dry_new = []\\n\\nname = []\\nfor filename in (os.listdir(path_csv)):\\n    name.append(filename.split('.')[0])\\n    data = pd.read_csv(path_csv + filename, sep = ';')\\n    precipitation = data['x']\\n    \\n    #precipitation\\n    length_of_precipitation = [];\\n    l = 0.;\\n    for i  in range(1, len(precipitation)):\\n        if precipitation[i] <= 0.0:\\n            if l > 0:\\n                length_of_precipitation.append(l - 1)\\n            l = 0;\\n        else:\\n            l += 1;\\n\\n    X = length_of_precipitation;\\n    #new_res = so.minimize(likelihood_f, [r,p],args = (X, -1), method='Nelder-Mead', options={'xtol': 1e-9}).fun\\n    r, p = so.minimize(likelihood_f, [r,p],args = (X, -1), method='Nelder-Mead', options={'xtol': 1e-9}).x\\n    \\n    r_precipitation_new.append(r)\\n    p_precipitation_new.append(p)\\n\\n    #dry_periods\\n    length_of_precipitation = [];\\n    l = 0.;\\n    for i  in range(1, len(precipitation)):\\n        if precipitation[i] > 0.0:\\n            if l > 0:\\n                length_of_precipitation.append(l - 1)\\n            l = 0;\\n        else:\\n            l += 1;\\n\\n    X = length_of_precipitation;\\n    \\n  \\n    new_res = so.minimize(likelihood_f, [r,p],args = (X, -1), method='Nelder-Mead', options={'xtol': 1e-9}).fun\\n    r, p = so.minimize(likelihood_f, [r,p],args = (X, -1), method='Nelder-Mead', options={'xtol': 1e-9}).x\\n  \\n    r_dry_new.append(r)\\n    p_dry_new.append(p)\\n    clear_output(True)\"\u001b[0m\u001b[1;33m)\u001b[0m\u001b[1;33m\u001b[0m\u001b[0m\n\u001b[0m",
      "\u001b[1;32mC:\\Users\\user\\Anaconda2\\lib\\site-packages\\IPython\\core\\interactiveshell.pyc\u001b[0m in \u001b[0;36mrun_cell_magic\u001b[1;34m(self, magic_name, line, cell)\u001b[0m\n\u001b[0;32m   2291\u001b[0m             \u001b[0mmagic_arg_s\u001b[0m \u001b[1;33m=\u001b[0m \u001b[0mself\u001b[0m\u001b[1;33m.\u001b[0m\u001b[0mvar_expand\u001b[0m\u001b[1;33m(\u001b[0m\u001b[0mline\u001b[0m\u001b[1;33m,\u001b[0m \u001b[0mstack_depth\u001b[0m\u001b[1;33m)\u001b[0m\u001b[1;33m\u001b[0m\u001b[0m\n\u001b[0;32m   2292\u001b[0m             \u001b[1;32mwith\u001b[0m \u001b[0mself\u001b[0m\u001b[1;33m.\u001b[0m\u001b[0mbuiltin_trap\u001b[0m\u001b[1;33m:\u001b[0m\u001b[1;33m\u001b[0m\u001b[0m\n\u001b[1;32m-> 2293\u001b[1;33m                 \u001b[0mresult\u001b[0m \u001b[1;33m=\u001b[0m \u001b[0mfn\u001b[0m\u001b[1;33m(\u001b[0m\u001b[0mmagic_arg_s\u001b[0m\u001b[1;33m,\u001b[0m \u001b[0mcell\u001b[0m\u001b[1;33m)\u001b[0m\u001b[1;33m\u001b[0m\u001b[0m\n\u001b[0m\u001b[0;32m   2294\u001b[0m             \u001b[1;32mreturn\u001b[0m \u001b[0mresult\u001b[0m\u001b[1;33m\u001b[0m\u001b[0m\n\u001b[0;32m   2295\u001b[0m \u001b[1;33m\u001b[0m\u001b[0m\n",
      "\u001b[1;32mC:\\Users\\user\\Anaconda2\\lib\\site-packages\\IPython\\core\\magics\\execution.pyc\u001b[0m in \u001b[0;36mtime\u001b[1;34m(self, line, cell, local_ns)\u001b[0m\n",
      "\u001b[1;32mC:\\Users\\user\\Anaconda2\\lib\\site-packages\\IPython\\core\\magic.pyc\u001b[0m in \u001b[0;36m<lambda>\u001b[1;34m(f, *a, **k)\u001b[0m\n\u001b[0;32m    191\u001b[0m     \u001b[1;31m# but it's overkill for just that one bit of state.\u001b[0m\u001b[1;33m\u001b[0m\u001b[1;33m\u001b[0m\u001b[0m\n\u001b[0;32m    192\u001b[0m     \u001b[1;32mdef\u001b[0m \u001b[0mmagic_deco\u001b[0m\u001b[1;33m(\u001b[0m\u001b[0marg\u001b[0m\u001b[1;33m)\u001b[0m\u001b[1;33m:\u001b[0m\u001b[1;33m\u001b[0m\u001b[0m\n\u001b[1;32m--> 193\u001b[1;33m         \u001b[0mcall\u001b[0m \u001b[1;33m=\u001b[0m \u001b[1;32mlambda\u001b[0m \u001b[0mf\u001b[0m\u001b[1;33m,\u001b[0m \u001b[1;33m*\u001b[0m\u001b[0ma\u001b[0m\u001b[1;33m,\u001b[0m \u001b[1;33m**\u001b[0m\u001b[0mk\u001b[0m\u001b[1;33m:\u001b[0m \u001b[0mf\u001b[0m\u001b[1;33m(\u001b[0m\u001b[1;33m*\u001b[0m\u001b[0ma\u001b[0m\u001b[1;33m,\u001b[0m \u001b[1;33m**\u001b[0m\u001b[0mk\u001b[0m\u001b[1;33m)\u001b[0m\u001b[1;33m\u001b[0m\u001b[0m\n\u001b[0m\u001b[0;32m    194\u001b[0m \u001b[1;33m\u001b[0m\u001b[0m\n\u001b[0;32m    195\u001b[0m         \u001b[1;32mif\u001b[0m \u001b[0mcallable\u001b[0m\u001b[1;33m(\u001b[0m\u001b[0marg\u001b[0m\u001b[1;33m)\u001b[0m\u001b[1;33m:\u001b[0m\u001b[1;33m\u001b[0m\u001b[0m\n",
      "\u001b[1;32mC:\\Users\\user\\Anaconda2\\lib\\site-packages\\IPython\\core\\magics\\execution.pyc\u001b[0m in \u001b[0;36mtime\u001b[1;34m(self, line, cell, local_ns)\u001b[0m\n\u001b[0;32m   1165\u001b[0m         \u001b[1;32melse\u001b[0m\u001b[1;33m:\u001b[0m\u001b[1;33m\u001b[0m\u001b[0m\n\u001b[0;32m   1166\u001b[0m             \u001b[0mst\u001b[0m \u001b[1;33m=\u001b[0m \u001b[0mclock2\u001b[0m\u001b[1;33m(\u001b[0m\u001b[1;33m)\u001b[0m\u001b[1;33m\u001b[0m\u001b[0m\n\u001b[1;32m-> 1167\u001b[1;33m             \u001b[1;32mexec\u001b[0m\u001b[1;33m(\u001b[0m\u001b[0mcode\u001b[0m\u001b[1;33m,\u001b[0m \u001b[0mglob\u001b[0m\u001b[1;33m,\u001b[0m \u001b[0mlocal_ns\u001b[0m\u001b[1;33m)\u001b[0m\u001b[1;33m\u001b[0m\u001b[0m\n\u001b[0m\u001b[0;32m   1168\u001b[0m             \u001b[0mend\u001b[0m \u001b[1;33m=\u001b[0m \u001b[0mclock2\u001b[0m\u001b[1;33m(\u001b[0m\u001b[1;33m)\u001b[0m\u001b[1;33m\u001b[0m\u001b[0m\n\u001b[0;32m   1169\u001b[0m             \u001b[0mout\u001b[0m \u001b[1;33m=\u001b[0m \u001b[0mNone\u001b[0m\u001b[1;33m\u001b[0m\u001b[0m\n",
      "\u001b[1;32m<timed exec>\u001b[0m in \u001b[0;36m<module>\u001b[1;34m()\u001b[0m\n",
      "\u001b[1;31mNameError\u001b[0m: name 'r' is not defined"
     ]
    }
   ],
   "source": [
    "%%time\n",
    "#ind = 3\n",
    "r_precipitation_new = []\n",
    "p_precipitation_new = []\n",
    "\n",
    "r_dry_new = []\n",
    "p_dry_new = []\n",
    "\n",
    "name = []\n",
    "for filename in (os.listdir(path_csv)):\n",
    "    name.append(filename.split('.')[0])\n",
    "    data = pd.read_csv(path_csv + filename, sep = ';')\n",
    "    precipitation = data['x']\n",
    "    \n",
    "    #precipitation\n",
    "    length_of_precipitation = [];\n",
    "    l = 0.;\n",
    "    for i  in range(1, len(precipitation)):\n",
    "        if precipitation[i] <= 0.0:\n",
    "            if l > 0:\n",
    "                length_of_precipitation.append(l - 1)\n",
    "            l = 0;\n",
    "        else:\n",
    "            l += 1;\n",
    "\n",
    "    X = length_of_precipitation;\n",
    "    #new_res = so.minimize(likelihood_f, [r,p],args = (X, -1), method='Nelder-Mead', options={'xtol': 1e-9}).fun\n",
    "    r, p = so.minimize(likelihood_f, [r,p],args = (X, -1), method='Nelder-Mead', options={'xtol': 1e-9}).x\n",
    "    \n",
    "    r_precipitation_new.append(r)\n",
    "    p_precipitation_new.append(p)\n",
    "\n",
    "    #dry_periods\n",
    "    length_of_precipitation = [];\n",
    "    l = 0.;\n",
    "    for i  in range(1, len(precipitation)):\n",
    "        if precipitation[i] > 0.0:\n",
    "            if l > 0:\n",
    "                length_of_precipitation.append(l - 1)\n",
    "            l = 0;\n",
    "        else:\n",
    "            l += 1;\n",
    "\n",
    "    X = length_of_precipitation;\n",
    "    \n",
    "  \n",
    "    new_res = so.minimize(likelihood_f, [r,p],args = (X, -1), method='Nelder-Mead', options={'xtol': 1e-9}).fun\n",
    "    r, p = so.minimize(likelihood_f, [r,p],args = (X, -1), method='Nelder-Mead', options={'xtol': 1e-9}).x\n",
    "  \n",
    "    r_dry_new.append(r)\n",
    "    p_dry_new.append(p)\n",
    "    clear_output(True)"
   ]
  },
  {
   "cell_type": "code",
   "execution_count": null,
   "metadata": {
    "collapsed": true
   },
   "outputs": [],
   "source": [
    "data = pd.DataFrame({\"station_number\": name, \"R_precipitation\": r_precipitation_new, \"P_precipitation\":p_precipitation_new,\n",
    "                     \"R_dry\": r_dry_new, \"P_dry\":p_dry_new})"
   ]
  },
  {
   "cell_type": "code",
   "execution_count": 19,
   "metadata": {
    "collapsed": false
   },
   "outputs": [
    {
     "data": {
      "text/plain": [
       "0         0.0\n",
       "1         0.2\n",
       "2         0.0\n",
       "3         1.0\n",
       "4         2.1\n",
       "5        11.4\n",
       "6         8.9\n",
       "7         3.6\n",
       "8        17.1\n",
       "9         0.6\n",
       "10        0.0\n",
       "11        0.0\n",
       "12        0.0\n",
       "13        0.0\n",
       "14        0.0\n",
       "15        1.2\n",
       "16        0.8\n",
       "17        0.1\n",
       "18        0.0\n",
       "19        0.0\n",
       "20        0.0\n",
       "21        0.0\n",
       "22        0.0\n",
       "23        0.0\n",
       "24        2.5\n",
       "25        0.0\n",
       "26        0.0\n",
       "27        0.0\n",
       "28        0.0\n",
       "29        0.0\n",
       "         ... \n",
       "26450     9.9\n",
       "26451     1.8\n",
       "26452     8.5\n",
       "26453    10.7\n",
       "26454     5.1\n",
       "26455     0.7\n",
       "26456     0.6\n",
       "26457     0.1\n",
       "26458     0.0\n",
       "26459     0.1\n",
       "26460    13.4\n",
       "26461     1.0\n",
       "26462     0.0\n",
       "26463     0.0\n",
       "26464     0.0\n",
       "26465     0.1\n",
       "26466    19.0\n",
       "26467     0.4\n",
       "26468    24.0\n",
       "26469     0.0\n",
       "26470     0.0\n",
       "26471     1.0\n",
       "26472     5.0\n",
       "26473     0.0\n",
       "26474     0.0\n",
       "26475     0.0\n",
       "26476     0.0\n",
       "26477     0.0\n",
       "26478     0.0\n",
       "26479     0.0\n",
       "Name: x, dtype: float64"
      ]
     },
     "execution_count": 19,
     "metadata": {},
     "output_type": "execute_result"
    }
   ],
   "source": [
    "data['x']"
   ]
  },
  {
   "cell_type": "code",
   "execution_count": null,
   "metadata": {
    "collapsed": true
   },
   "outputs": [],
   "source": [
    "data.to_csv(\"new_parameters_dist.csv\", sep = ';')"
   ]
  }
 ],
 "metadata": {
  "kernelspec": {
   "display_name": "Python 2",
   "language": "python",
   "name": "python2"
  },
  "language_info": {
   "codemirror_mode": {
    "name": "ipython",
    "version": 2
   },
   "file_extension": ".py",
   "mimetype": "text/x-python",
   "name": "python",
   "nbconvert_exporter": "python",
   "pygments_lexer": "ipython2",
   "version": "2.7.10"
  }
 },
 "nbformat": 4,
 "nbformat_minor": 0
}
