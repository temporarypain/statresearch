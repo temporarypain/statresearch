{
 "cells": [
  {
   "cell_type": "code",
   "execution_count": 1,
   "metadata": {
    "collapsed": false
   },
   "outputs": [],
   "source": [
    "\n",
    "import pandas as pd\n",
    "import numpy as np\n",
    "import matplotlib.pyplot as plt\n",
    "import csv\n",
    "from mpl_toolkits.basemap import Basemap\n",
    "import matplotlib.pyplot as plt\n",
    "from mpl_toolkits.mplot3d import Axes3D\n",
    "from matplotlib.collections import PolyCollection\n",
    "from matplotlib.colors import colorConverter"
   ]
  },
  {
   "cell_type": "code",
   "execution_count": 18,
   "metadata": {
    "collapsed": false
   },
   "outputs": [],
   "source": [
    "Data = pd.read_csv('res_croatia.csv', sep=';')\n"
   ]
  },
  {
   "cell_type": "code",
   "execution_count": 20,
   "metadata": {
    "collapsed": false
   },
   "outputs": [
    {
     "data": {
      "text/html": [
       "<div>\n",
       "<table border=\"1\" class=\"dataframe\">\n",
       "  <thead>\n",
       "    <tr style=\"text-align: right;\">\n",
       "      <th></th>\n",
       "      <th>Unnamed: 0</th>\n",
       "      <th>latitude</th>\n",
       "      <th>longtitude</th>\n",
       "      <th>Unnamed: 3</th>\n",
       "      <th>r_wet</th>\n",
       "      <th>p_wet</th>\n",
       "      <th>Unnamed: 6</th>\n",
       "      <th>Unnamed: 7</th>\n",
       "      <th>r_dry</th>\n",
       "      <th>p_dry</th>\n",
       "      <th>Unnamed: 10</th>\n",
       "      <th>Unnamed: 11</th>\n",
       "    </tr>\n",
       "  </thead>\n",
       "  <tbody>\n",
       "    <tr>\n",
       "      <th>0</th>\n",
       "      <td>1</td>\n",
       "      <td>44.5500</td>\n",
       "      <td>15.3667</td>\n",
       "      <td>NaN</td>\n",
       "      <td>0.961367</td>\n",
       "      <td>0.376968</td>\n",
       "      <td>0</td>\n",
       "      <td>0.128311</td>\n",
       "      <td>0.745414</td>\n",
       "      <td>0.187096</td>\n",
       "      <td>0</td>\n",
       "      <td>1.432816e-01</td>\n",
       "    </tr>\n",
       "    <tr>\n",
       "      <th>1</th>\n",
       "      <td>2</td>\n",
       "      <td>43.1667</td>\n",
       "      <td>16.4500</td>\n",
       "      <td>NaN</td>\n",
       "      <td>0.915153</td>\n",
       "      <td>0.452236</td>\n",
       "      <td>1</td>\n",
       "      <td>0.000460</td>\n",
       "      <td>0.655006</td>\n",
       "      <td>0.121406</td>\n",
       "      <td>1</td>\n",
       "      <td>1.661223e-02</td>\n",
       "    </tr>\n",
       "    <tr>\n",
       "      <th>2</th>\n",
       "      <td>3</td>\n",
       "      <td>46.1330</td>\n",
       "      <td>15.8830</td>\n",
       "      <td>NaN</td>\n",
       "      <td>0.883625</td>\n",
       "      <td>0.415981</td>\n",
       "      <td>1</td>\n",
       "      <td>0.007759</td>\n",
       "      <td>0.752749</td>\n",
       "      <td>0.213691</td>\n",
       "      <td>1</td>\n",
       "      <td>8.862222e-03</td>\n",
       "    </tr>\n",
       "    <tr>\n",
       "      <th>3</th>\n",
       "      <td>4</td>\n",
       "      <td>42.7667</td>\n",
       "      <td>16.8994</td>\n",
       "      <td>NaN</td>\n",
       "      <td>0.886682</td>\n",
       "      <td>0.452020</td>\n",
       "      <td>1</td>\n",
       "      <td>0.027479</td>\n",
       "      <td>0.635651</td>\n",
       "      <td>0.118227</td>\n",
       "      <td>1</td>\n",
       "      <td>3.645330e-08</td>\n",
       "    </tr>\n",
       "    <tr>\n",
       "      <th>4</th>\n",
       "      <td>5</td>\n",
       "      <td>45.5331</td>\n",
       "      <td>18.6331</td>\n",
       "      <td>NaN</td>\n",
       "      <td>1.115646</td>\n",
       "      <td>0.496680</td>\n",
       "      <td>0</td>\n",
       "      <td>0.558382</td>\n",
       "      <td>0.713581</td>\n",
       "      <td>0.192984</td>\n",
       "      <td>1</td>\n",
       "      <td>7.962590e-04</td>\n",
       "    </tr>\n",
       "    <tr>\n",
       "      <th>5</th>\n",
       "      <td>6</td>\n",
       "      <td>45.3331</td>\n",
       "      <td>14.4500</td>\n",
       "      <td>NaN</td>\n",
       "      <td>0.983301</td>\n",
       "      <td>0.410616</td>\n",
       "      <td>1</td>\n",
       "      <td>0.047677</td>\n",
       "      <td>0.713445</td>\n",
       "      <td>0.162776</td>\n",
       "      <td>0</td>\n",
       "      <td>3.629473e-01</td>\n",
       "    </tr>\n",
       "    <tr>\n",
       "      <th>6</th>\n",
       "      <td>7</td>\n",
       "      <td>43.5167</td>\n",
       "      <td>16.4331</td>\n",
       "      <td>NaN</td>\n",
       "      <td>0.975870</td>\n",
       "      <td>0.448484</td>\n",
       "      <td>0</td>\n",
       "      <td>0.128879</td>\n",
       "      <td>0.682583</td>\n",
       "      <td>0.139931</td>\n",
       "      <td>1</td>\n",
       "      <td>3.313629e-02</td>\n",
       "    </tr>\n",
       "    <tr>\n",
       "      <th>7</th>\n",
       "      <td>8</td>\n",
       "      <td>45.8167</td>\n",
       "      <td>15.9781</td>\n",
       "      <td>NaN</td>\n",
       "      <td>1.027499</td>\n",
       "      <td>0.454398</td>\n",
       "      <td>1</td>\n",
       "      <td>0.033328</td>\n",
       "      <td>0.817592</td>\n",
       "      <td>0.216836</td>\n",
       "      <td>0</td>\n",
       "      <td>2.387623e-01</td>\n",
       "    </tr>\n",
       "    <tr>\n",
       "      <th>8</th>\n",
       "      <td>9</td>\n",
       "      <td>44.8167</td>\n",
       "      <td>14.9831</td>\n",
       "      <td>NaN</td>\n",
       "      <td>0.936707</td>\n",
       "      <td>0.322624</td>\n",
       "      <td>1</td>\n",
       "      <td>0.040990</td>\n",
       "      <td>0.661170</td>\n",
       "      <td>0.188977</td>\n",
       "      <td>0</td>\n",
       "      <td>NaN</td>\n",
       "    </tr>\n",
       "  </tbody>\n",
       "</table>\n",
       "</div>"
      ],
      "text/plain": [
       "   Unnamed: 0  latitude  longtitude  Unnamed: 3     r_wet     p_wet  \\\n",
       "0           1   44.5500     15.3667         NaN  0.961367  0.376968   \n",
       "1           2   43.1667     16.4500         NaN  0.915153  0.452236   \n",
       "2           3   46.1330     15.8830         NaN  0.883625  0.415981   \n",
       "3           4   42.7667     16.8994         NaN  0.886682  0.452020   \n",
       "4           5   45.5331     18.6331         NaN  1.115646  0.496680   \n",
       "5           6   45.3331     14.4500         NaN  0.983301  0.410616   \n",
       "6           7   43.5167     16.4331         NaN  0.975870  0.448484   \n",
       "7           8   45.8167     15.9781         NaN  1.027499  0.454398   \n",
       "8           9   44.8167     14.9831         NaN  0.936707  0.322624   \n",
       "\n",
       "   Unnamed: 6  Unnamed: 7     r_dry     p_dry  Unnamed: 10   Unnamed: 11  \n",
       "0           0    0.128311  0.745414  0.187096            0  1.432816e-01  \n",
       "1           1    0.000460  0.655006  0.121406            1  1.661223e-02  \n",
       "2           1    0.007759  0.752749  0.213691            1  8.862222e-03  \n",
       "3           1    0.027479  0.635651  0.118227            1  3.645330e-08  \n",
       "4           0    0.558382  0.713581  0.192984            1  7.962590e-04  \n",
       "5           1    0.047677  0.713445  0.162776            0  3.629473e-01  \n",
       "6           0    0.128879  0.682583  0.139931            1  3.313629e-02  \n",
       "7           1    0.033328  0.817592  0.216836            0  2.387623e-01  \n",
       "8           1    0.040990  0.661170  0.188977            0           NaN  "
      ]
     },
     "execution_count": 20,
     "metadata": {},
     "output_type": "execute_result"
    }
   ],
   "source": [
    "d = np.array(Data)\n",
    "Data"
   ]
  },
  {
   "cell_type": "code",
   "execution_count": 21,
   "metadata": {
    "collapsed": false
   },
   "outputs": [],
   "source": [
    "lat = np.array(Data['latitude'])\n",
    "lon = np.array(Data['longtitude'])\n",
    "r_wet = np.array(Data['r_wet'])\n",
    "p_wet = np.array(Data['p_wet'])\n",
    "r_dry = np.array(Data['r_dry'])\n",
    "p_dry = np.array(Data['p_dry'])"
   ]
  },
  {
   "cell_type": "code",
   "execution_count": 22,
   "metadata": {
    "collapsed": true
   },
   "outputs": [],
   "source": [
    "fig = plt.figure(figsize=(10,20))  # predefined figure size, change to your liking. \n",
    "# But doesn't matter if you save to any vector graphics format though (e.g. pdf)\n",
    "ax = fig.add_axes([0.05,0.05,0.9,0.85])\n",
    "\n"
   ]
  },
  {
   "cell_type": "code",
   "execution_count": 23,
   "metadata": {
    "collapsed": false
   },
   "outputs": [],
   "source": [
    "bot, top, left, right = 13.0, 20.0 ,42.0, 47.0,  # just to zoom in to only Germany\n",
    "m = Basemap(projection='merc', resolution=None,\n",
    "    llcrnrlat=left,\n",
    "    llcrnrlon=bot,\n",
    "    urcrnrlat=right,\n",
    "    urcrnrlon=top)\n"
   ]
  },
  {
   "cell_type": "code",
   "execution_count": 16,
   "metadata": {
    "collapsed": false
   },
   "outputs": [],
   "source": [
    "m.shadedrelief()\n",
    "plt.show()\n"
   ]
  },
  {
   "cell_type": "code",
   "execution_count": 8,
   "metadata": {
    "collapsed": false
   },
   "outputs": [],
   "source": [
    "def f(par, filename):\n",
    "    color = []\n",
    "    for i in par:\n",
    "        i\n",
    "        const = float(min(par))\n",
    "        if i == const:\n",
    "            color.append((0.3, 0.3, 0.3))\n",
    "        else:\n",
    "            x = np.log2((float(i) - const) / float(float((max(par))) - const) + 1)\n",
    "            color.append((1, 1 - x, 0))\n",
    "    m.shadedrelief()\n",
    "    m.drawparallels(np.arange(-56,63.,2.), color='.2', labels=[1,0,0,0])\n",
    "    m.drawparallels(np.arange(-55,63.,2.), color='.2', labels=[0,0,0,0])\n",
    "    m.drawmeridians(np.arange(-6.,18.,2.), color='.2', labels=[0,0,0,1])\n",
    "    m.drawmeridians(np.arange(-7.,18.,2.), color='.2', labels=[0,0,0,0])\n",
    "    xpt,ypt = m(lon,lat)\n",
    "    lonpt, latpt = m(xpt,ypt,inverse=True)\n",
    "    for ind, i in enumerate(color):\n",
    "            m.plot(xpt[ind],ypt[ind], 'o', color = color[ind]) \n",
    "    plt.title(filename, fontsize = 20,  y=1.04)\n",
    "    plt.savefig(filename)\n",
    "    plt.show()"
   ]
  },
  {
   "cell_type": "code",
   "execution_count": null,
   "metadata": {
    "collapsed": false
   },
   "outputs": [],
   "source": [
    "f(r_wet, \"Rainy periods, parametr R\")\n",
    "f(p_wet, \"Rainy periods, parametr P\")\n",
    "f(r_dry, \"Dry periods, parametr R\")\n",
    "f(p_dry, \"Dry periods, parametr P\")"
   ]
  },
  {
   "cell_type": "code",
   "execution_count": 111,
   "metadata": {
    "collapsed": false
   },
   "outputs": [
    {
     "data": {
      "text/plain": [
       "'1.170852949'"
      ]
     },
     "execution_count": 111,
     "metadata": {},
     "output_type": "execute_result"
    }
   ],
   "source": [
    "max(par)"
   ]
  },
  {
   "cell_type": "code",
   "execution_count": 10,
   "metadata": {
    "collapsed": false
   },
   "outputs": [],
   "source": [
    "f(r_wet, \"Rainy periods, parametr R\")"
   ]
  },
  {
   "cell_type": "code",
   "execution_count": 113,
   "metadata": {
    "collapsed": false
   },
   "outputs": [
    {
     "data": {
      "text/plain": [
       "array(['0.987601576', '0.8141057', '0.757215624', ..., nan, nan, nan], dtype=object)"
      ]
     },
     "execution_count": 113,
     "metadata": {},
     "output_type": "execute_result"
    }
   ],
   "source": [
    "r_wet"
   ]
  },
  {
   "cell_type": "code",
   "execution_count": null,
   "metadata": {
    "collapsed": true
   },
   "outputs": [],
   "source": []
  }
 ],
 "metadata": {
  "kernelspec": {
   "display_name": "Python 2",
   "language": "python",
   "name": "python2"
  },
  "language_info": {
   "codemirror_mode": {
    "name": "ipython",
    "version": 2
   },
   "file_extension": ".py",
   "mimetype": "text/x-python",
   "name": "python",
   "nbconvert_exporter": "python",
   "pygments_lexer": "ipython2",
   "version": "2.7.13"
  }
 },
 "nbformat": 4,
 "nbformat_minor": 0
}
